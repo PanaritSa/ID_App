{
 "cells": [
  {
   "cell_type": "code",
   "execution_count": 1,
   "metadata": {},
   "outputs": [
    {
     "name": "stdout",
     "output_type": "stream",
     "text": [
      "hi\n"
     ]
    }
   ],
   "source": [
    "print(\"hi\")"
   ]
  },
  {
   "cell_type": "markdown",
   "metadata": {},
   "source": [
    "# ID Scraping\n",
    "## -"
   ]
  },
  {
   "cell_type": "code",
   "execution_count": 1,
   "metadata": {},
   "outputs": [],
   "source": [
    "from selenium import webdriver\n",
    "from selenium.webdriver.common.by import By\n",
    "from selenium.webdriver.common.keys import Keys\n",
    "from selenium.webdriver.support import expected_conditions as ec\n",
    "from selenium.webdriver.support.ui import WebDriverWait\n",
    "import time\n",
    "\n",
    "# เริ่มต้น WebDriver\n",
    "driver = webdriver.Chrome()\n",
    "driver.get('https://www.dotproperty.co.th/')\n",
    "\n",
    "# ---------- Step 1: กรอกคำค้นหา \"sukumvit\" ----------\n",
    "x_path_location = '//*[@id=\"search\"]'\n",
    "input_box = driver.find_element(By.XPATH, x_path_location)\n",
    "input_box.send_keys(\"sukumvit\")\n",
    "\n",
    "# ---------- Step 2: เลือก \"ให้เช่า\" จาก dropdown ----------\n",
    "time.sleep(2)  # รอ dropdown โหลด\n",
    "rent_dropdown_button = driver.find_element(\n",
    "    By.XPATH,\n",
    "    '//*[@id=\"search-box\"]/div/div/div[1]/form/div/div[1]/div[2]/div[2]/button'\n",
    ")\n",
    "rent_dropdown_button.click()\n",
    "\n",
    "rent_option = driver.find_element(\n",
    "    By.XPATH,\n",
    "    '//*[@id=\"search-box\"]/div/div/div[1]/form/div/div[1]/div[2]/div[2]/div/ul/li[2]/a'\n",
    ")\n",
    "rent_option.click()\n",
    "\n",
    "# ---------- Step 3: เลือกประเภท \"คอนโด\" ----------\n",
    "time.sleep(2)  # รอ dropdown โหลด\n",
    "type_dropdown_button = driver.find_element(\n",
    "    By.XPATH,\n",
    "    '//*[@id=\"search-box\"]/div/div/div[1]/form/div/div[1]/div[3]/div[2]/button'\n",
    ")\n",
    "type_dropdown_button.click()\n",
    "\n",
    "time.sleep(1)\n",
    "condo_checkbox = driver.find_element(\n",
    "    By.XPATH,\n",
    "    '//*[@id=\"search-box\"]/div/div/div[1]/form/div/div[1]/div[3]/div[2]/ul/li[1]/a/label/input'\n",
    ")\n",
    "condo_checkbox.click()\n",
    "\n",
    "# ---------- Step 4: คลิกปุ่ม \"ค้นหา\" ----------\n",
    "search_button = driver.find_element(\n",
    "    By.XPATH,\n",
    "    '//*[@id=\"search-box\"]/div/div/div[1]/form/div/div[1]/div[4]/button'\n",
    ")\n",
    "search_button.click()\n"
   ]
  },
  {
   "cell_type": "code",
   "execution_count": 4,
   "metadata": {},
   "outputs": [],
   "source": [
    "import os\n",
    "import requests\n",
    "\n",
    "# สร้างโฟลเดอร์สำหรับรูป\n",
    "os.makedirs(\"images\", exist_ok=True)"
   ]
  },
  {
   "cell_type": "code",
   "execution_count": 9,
   "metadata": {},
   "outputs": [],
   "source": [
    "# หา list ทั้งหมดของลิงก์ประกาศ\n",
    "listing_links = driver.find_elements(By.XPATH, '//a[contains(@href, \"/ads/\")]')"
   ]
  },
  {
   "cell_type": "code",
   "execution_count": 11,
   "metadata": {},
   "outputs": [],
   "source": [
    "# เก็บลิงก์ทั้งหมดลง list (เพื่อไม่ให้ element stale เมื่อเปลี่ยน tab)\n",
    "urls = []\n",
    "for link in listing_links:\n",
    "    href = link.get_attribute(\"href\")\n",
    "    if href and href not in urls:\n",
    "        urls.append(href)\n",
    "    # print(urls)"
   ]
  },
  {
   "cell_type": "code",
   "execution_count": 12,
   "metadata": {},
   "outputs": [
    {
     "name": "stdout",
     "output_type": "stream",
     "text": [
      "https://www.dotproperty.co.th/ads/%E0%B9%83%E0%B8%AB%E0%B9%89%E0%B9%80%E0%B8%8A%E0%B9%88%E0%B8%B2%E0%B8%84%E0%B8%AD%E0%B8%99%E0%B9%82%E0%B8%94-%E0%B8%94%E0%B8%B4-%E0%B9%80%E0%B8%AD%E0%B8%AA-%E0%B8%AA%E0%B8%B8%E0%B8%82%E0%B8%B8%E0%B8%A1%E0%B8%A7%E0%B8%B4%E0%B8%97-36-3-%E0%B8%AB%E0%B9%89%E0%B8%AD%E0%B8%87%E0%B8%99%E0%B8%AD%E0%B8%99-%E0%B9%83%E0%B8%99-%E0%B8%9E%E0%B8%A3%E0%B8%B0%E0%B9%82%E0%B8%82%E0%B8%99%E0%B8%87-%E0%B8%84%E0%B8%A5%E0%B8%AD%E0%B8%87%E0%B9%80%E0%B8%95%E0%B8%A2-%E0%B9%83%E0%B8%81%E0%B8%A5%E0%B9%89-bts-%E0%B8%97%E0%B8%AD%E0%B8%87%E0%B8%AB%E0%B8%A5%E0%B9%88%E0%B8%AD_c672e0ac8c40-a44f-b332-d55c-f8626089\n",
      "https://www.dotproperty.co.th/ads/%E0%B9%83%E0%B8%AB%E0%B9%89%E0%B9%80%E0%B8%8A%E0%B9%88%E0%B8%B2%E0%B8%84%E0%B8%AD%E0%B8%99%E0%B9%82%E0%B8%94-%E0%B8%94%E0%B8%B4-%E0%B9%80%E0%B8%AD%E0%B8%AA-%E0%B8%AA%E0%B8%B8%E0%B8%82%E0%B8%B8%E0%B8%A1%E0%B8%A7%E0%B8%B4%E0%B8%97-36-2-%E0%B8%AB%E0%B9%89%E0%B8%AD%E0%B8%87%E0%B8%99%E0%B8%AD%E0%B8%99-%E0%B9%83%E0%B8%99-%E0%B8%9E%E0%B8%A3%E0%B8%B0%E0%B9%82%E0%B8%82%E0%B8%99%E0%B8%87-%E0%B8%84%E0%B8%A5%E0%B8%AD%E0%B8%87%E0%B9%80%E0%B8%95%E0%B8%A2-%E0%B9%83%E0%B8%81%E0%B8%A5%E0%B9%89-bts-%E0%B8%97%E0%B8%AD%E0%B8%87%E0%B8%AB%E0%B8%A5%E0%B9%88%E0%B8%AD_8c0c91ea8b80-06b1-5112-9f63-ff716089\n",
      "https://www.dotproperty.co.th/ads/%E0%B8%82%E0%B8%B2%E0%B8%A2%E0%B8%AB%E0%B8%A3%E0%B8%B7%E0%B8%AD%E0%B9%83%E0%B8%AB%E0%B9%89%E0%B9%80%E0%B8%8A%E0%B9%88%E0%B8%B2%E0%B8%84%E0%B8%AD%E0%B8%99%E0%B9%82%E0%B8%94-%E0%B8%A3%E0%B8%AD%E0%B8%A2%E0%B8%8B%E0%B9%8C-%E0%B9%84%E0%B8%9E%E0%B8%A3%E0%B9%80%E0%B8%A7%E0%B8%97-%E0%B9%80%E0%B8%A3%E0%B8%AA%E0%B8%8B%E0%B8%B4%E0%B9%80%E0%B8%94%E0%B8%99%E0%B8%8B%E0%B9%8C-4-%E0%B8%AB%E0%B9%89%E0%B8%AD%E0%B8%87%E0%B8%99%E0%B8%AD%E0%B8%99-%E0%B9%83%E0%B8%99-%E0%B8%84%E0%B8%A5%E0%B8%AD%E0%B8%87%E0%B9%80%E0%B8%95%E0%B8%A2%E0%B9%80%E0%B8%AB%E0%B8%99%E0%B8%B7%E0%B8%AD-%E0%B8%A7%E0%B8%B1%E0%B8%92%E0%B8%99%E0%B8%B2-%E0%B9%83%E0%B8%81%E0%B8%A5%E0%B9%89-bts-%E0%B8%AD%E0%B9%82%E0%B8%A8%E0%B8%81_240daa517ab8-1910-c772-474e-62e98089\n",
      "https://www.dotproperty.co.th/ads/%E0%B9%83%E0%B8%AB%E0%B9%89%E0%B9%80%E0%B8%8A%E0%B9%88%E0%B8%B2%E0%B8%84%E0%B8%AD%E0%B8%99%E0%B9%82%E0%B8%94-%E0%B8%9A%E0%B9%89%E0%B8%B2%E0%B8%99-%E0%B8%AA%E0%B8%B4%E0%B8%A3%E0%B8%B4-%E0%B9%80%E0%B8%98%E0%B8%AD%E0%B8%A3%E0%B9%8C%E0%B8%95%E0%B8%B5%E0%B9%89-%E0%B8%A7%E0%B8%B1%E0%B8%99-3-%E0%B8%AB%E0%B9%89%E0%B8%AD%E0%B8%87%E0%B8%99%E0%B8%AD%E0%B8%99-%E0%B9%83%E0%B8%99-%E0%B8%84%E0%B8%A5%E0%B8%AD%E0%B8%87%E0%B9%80%E0%B8%95%E0%B8%A2%E0%B9%80%E0%B8%AB%E0%B8%99%E0%B8%B7%E0%B8%AD-%E0%B8%A7%E0%B8%B1%E0%B8%92%E0%B8%99%E0%B8%B2-%E0%B9%83%E0%B8%81%E0%B8%A5%E0%B9%89-bts-%E0%B8%9E%E0%B8%A3%E0%B9%89%E0%B8%AD%E0%B8%A1%E0%B8%9E%E0%B8%87%E0%B8%A9%E0%B9%8C_f525e70bb741-d930-9ee2-0085-78a93089\n",
      "https://www.dotproperty.co.th/ads/%E0%B9%83%E0%B8%AB%E0%B9%89%E0%B9%80%E0%B8%8A%E0%B9%88%E0%B8%B2%E0%B8%84%E0%B8%AD%E0%B8%99%E0%B9%82%E0%B8%94-%E0%B9%80%E0%B8%8B%E0%B8%AD%E0%B8%A3%E0%B9%8C%E0%B9%80%E0%B8%84%E0%B8%B4%E0%B8%A5-%E0%B8%84%E0%B8%AD%E0%B8%99%E0%B9%82%E0%B8%94%E0%B8%A1%E0%B8%B4%E0%B9%80%E0%B8%99%E0%B8%B5%E0%B8%A2%E0%B8%A1-2-%E0%B8%AB%E0%B9%89%E0%B8%AD%E0%B8%87%E0%B8%99%E0%B8%AD%E0%B8%99-%E0%B9%83%E0%B8%99-%E0%B8%A1%E0%B8%B1%E0%B8%81%E0%B8%81%E0%B8%B0%E0%B8%AA%E0%B8%B1%E0%B8%99-%E0%B8%A3%E0%B8%B2%E0%B8%8A%E0%B9%80%E0%B8%97%E0%B8%A7%E0%B8%B5-%E0%B9%83%E0%B8%81%E0%B8%A5%E0%B9%89-airport-rail-link-%E0%B8%A1%E0%B8%B1%E0%B8%81%E0%B8%81%E0%B8%B0%E0%B8%AA%E0%B8%B1%E0%B8%99_edc72a05306d-092f-dee2-c94e-bc8d4089\n",
      "https://www.dotproperty.co.th/ads/%E0%B8%82%E0%B8%B2%E0%B8%A2%E0%B8%AB%E0%B8%A3%E0%B8%B7%E0%B8%AD%E0%B9%83%E0%B8%AB%E0%B9%89%E0%B9%80%E0%B8%8A%E0%B9%88%E0%B8%B2%E0%B8%84%E0%B8%AD%E0%B8%99%E0%B9%82%E0%B8%94-%E0%B8%A1%E0%B8%B4%E0%B8%A7%E0%B8%99%E0%B8%B5%E0%B8%84-%E0%B8%AB%E0%B8%A5%E0%B8%B1%E0%B8%87%E0%B8%AA%E0%B8%A7%E0%B8%99-3-%E0%B8%AB%E0%B9%89%E0%B8%AD%E0%B8%87%E0%B8%99%E0%B8%AD%E0%B8%99-%E0%B9%83%E0%B8%99-%E0%B8%A5%E0%B8%B8%E0%B8%A1%E0%B8%9E%E0%B8%B4%E0%B8%99%E0%B8%B5-%E0%B8%9B%E0%B8%97%E0%B8%B8%E0%B8%A1%E0%B8%A7%E0%B8%B1%E0%B8%99-%E0%B9%83%E0%B8%81%E0%B8%A5%E0%B9%89-bts-%E0%B8%8A%E0%B8%B4%E0%B8%94%E0%B8%A5%E0%B8%A1_44dded612f78-08fe-3cc2-57d3-46295089\n",
      "https://www.dotproperty.co.th/ads/%E0%B9%83%E0%B8%AB%E0%B9%89%E0%B9%80%E0%B8%8A%E0%B9%88%E0%B8%B2%E0%B8%84%E0%B8%AD%E0%B8%99%E0%B9%82%E0%B8%94-%E0%B8%97%E0%B9%80%E0%B8%A7%E0%B8%99%E0%B8%95%E0%B8%B5%E0%B9%89%E0%B9%80%E0%B8%AD%E0%B8%97-%E0%B8%8A%E0%B8%B4%E0%B8%94%E0%B8%A5%E0%B8%A1-2-%E0%B8%AB%E0%B9%89%E0%B8%AD%E0%B8%87%E0%B8%99%E0%B8%AD%E0%B8%99-%E0%B9%83%E0%B8%99-%E0%B8%A5%E0%B8%B8%E0%B8%A1%E0%B8%9E%E0%B8%B4%E0%B8%99%E0%B8%B5-%E0%B8%9B%E0%B8%97%E0%B8%B8%E0%B8%A1%E0%B8%A7%E0%B8%B1%E0%B8%99-%E0%B9%83%E0%B8%81%E0%B8%A5%E0%B9%89-bts-%E0%B8%8A%E0%B8%B4%E0%B8%94%E0%B8%A5%E0%B8%A1_25ce3adf5f1a-f911-4662-804e-03de4089\n",
      "https://www.dotproperty.co.th/ads/%E0%B8%82%E0%B8%B2%E0%B8%A2%E0%B8%AB%E0%B8%A3%E0%B8%B7%E0%B8%AD%E0%B9%83%E0%B8%AB%E0%B9%89%E0%B9%80%E0%B8%8A%E0%B9%88%E0%B8%B2%E0%B8%84%E0%B8%AD%E0%B8%99%E0%B9%82%E0%B8%94-%E0%B9%80%E0%B8%9A%E0%B8%A5%E0%B9%80%E0%B8%81%E0%B8%A3%E0%B9%80%E0%B8%A7%E0%B8%B5%E0%B8%A2-%E0%B9%80%E0%B8%A3%E0%B8%AA%E0%B8%8B%E0%B8%B4%E0%B9%80%E0%B8%94%E0%B8%99%E0%B8%97%E0%B9%8C%E0%B8%AA-4-%E0%B8%AB%E0%B9%89%E0%B8%AD%E0%B8%87%E0%B8%99%E0%B8%AD%E0%B8%99-%E0%B9%83%E0%B8%99-%E0%B8%84%E0%B8%A5%E0%B8%AD%E0%B8%87%E0%B8%95%E0%B8%B1%E0%B8%99-%E0%B8%84%E0%B8%A5%E0%B8%AD%E0%B8%87%E0%B9%80%E0%B8%95%E0%B8%A2-%E0%B9%83%E0%B8%81%E0%B8%A5%E0%B9%89-bts-%E0%B8%97%E0%B8%AD%E0%B8%87%E0%B8%AB%E0%B8%A5%E0%B9%88%E0%B8%AD_6320dd23fb92-fe90-b612-c8eb-e2e44089\n",
      "https://www.dotproperty.co.th/ads/%E0%B9%83%E0%B8%AB%E0%B9%89%E0%B9%80%E0%B8%8A%E0%B9%88%E0%B8%B2%E0%B8%84%E0%B8%AD%E0%B8%99%E0%B9%82%E0%B8%94-%E0%B9%80%E0%B8%8B%E0%B8%AD%E0%B9%80%E0%B8%A5%E0%B8%AA-%E0%B8%AD%E0%B9%82%E0%B8%A8%E0%B8%81-3-%E0%B8%AB%E0%B9%89%E0%B8%AD%E0%B8%87%E0%B8%99%E0%B8%AD%E0%B8%99-%E0%B9%83%E0%B8%99-%E0%B8%84%E0%B8%A5%E0%B8%AD%E0%B8%87%E0%B9%80%E0%B8%95%E0%B8%A2%E0%B9%80%E0%B8%AB%E0%B8%99%E0%B8%B7%E0%B8%AD-%E0%B8%A7%E0%B8%B1%E0%B8%92%E0%B8%99%E0%B8%B2-%E0%B9%83%E0%B8%81%E0%B8%A5%E0%B9%89-bts-%E0%B8%AD%E0%B9%82%E0%B8%A8%E0%B8%81_7e48858aad56-0c5e-6112-6e01-dcee5089\n",
      "https://www.dotproperty.co.th/ads/%E0%B9%83%E0%B8%AB%E0%B9%89%E0%B9%80%E0%B8%8A%E0%B9%88%E0%B8%B2%E0%B8%84%E0%B8%AD%E0%B8%99%E0%B9%82%E0%B8%94-%E0%B8%94%E0%B8%B4-%E0%B9%81%E0%B8%AD%E0%B8%94%E0%B9%80%E0%B8%94%E0%B8%A3%E0%B8%AA-%E0%B8%AA%E0%B8%B8%E0%B8%82%E0%B8%B8%E0%B8%A1%E0%B8%A7%E0%B8%B4%E0%B8%97-42-1-%E0%B8%AB%E0%B9%89%E0%B8%AD%E0%B8%87%E0%B8%99%E0%B8%AD%E0%B8%99-%E0%B9%83%E0%B8%99-%E0%B8%9E%E0%B8%A3%E0%B8%B0%E0%B9%82%E0%B8%82%E0%B8%99%E0%B8%87-%E0%B8%84%E0%B8%A5%E0%B8%AD%E0%B8%87%E0%B9%80%E0%B8%95%E0%B8%A2-%E0%B9%83%E0%B8%81%E0%B8%A5%E0%B9%89-bts-%E0%B9%80%E0%B8%AD%E0%B8%81%E0%B8%A1%E0%B8%B1%E0%B8%A2_555dfbcc8b90-1f71-dab2-a5f7-939d5089\n",
      "https://www.dotproperty.co.th/ads/%E0%B9%83%E0%B8%AB%E0%B9%89%E0%B9%80%E0%B8%8A%E0%B9%88%E0%B8%B2%E0%B8%84%E0%B8%AD%E0%B8%99%E0%B9%82%E0%B8%94-%E0%B9%80%E0%B8%94%E0%B8%AD%E0%B8%B0-%E0%B8%9E%E0%B8%B2%E0%B8%A3%E0%B9%8C%E0%B8%84-%E0%B8%8A%E0%B8%B4%E0%B8%94%E0%B8%A5%E0%B8%A1-3-%E0%B8%AB%E0%B9%89%E0%B8%AD%E0%B8%87%E0%B8%99%E0%B8%AD%E0%B8%99-%E0%B9%83%E0%B8%99-%E0%B8%A5%E0%B8%B8%E0%B8%A1%E0%B8%9E%E0%B8%B4%E0%B8%99%E0%B8%B5-%E0%B8%9B%E0%B8%97%E0%B8%B8%E0%B8%A1%E0%B8%A7%E0%B8%B1%E0%B8%99-%E0%B9%83%E0%B8%81%E0%B8%A5%E0%B9%89-bts-%E0%B8%8A%E0%B8%B4%E0%B8%94%E0%B8%A5%E0%B8%A1_731ace227df7-0c5e-6112-5676-1cee5089\n",
      "https://www.dotproperty.co.th/ads/%E0%B9%83%E0%B8%AB%E0%B9%89%E0%B9%80%E0%B8%8A%E0%B9%88%E0%B8%B2%E0%B8%84%E0%B8%AD%E0%B8%99%E0%B9%82%E0%B8%94-%E0%B8%A7%E0%B8%B1%E0%B8%99-%E0%B9%81%E0%B8%9A%E0%B8%87%E0%B8%84%E0%B9%8C%E0%B8%84%E0%B9%87%E0%B8%AD%E0%B8%81-%E0%B9%80%E0%B8%A3%E0%B8%AA%E0%B8%8B%E0%B8%B4%E0%B9%80%E0%B8%94%E0%B9%89%E0%B8%99%E0%B8%97%E0%B9%8C-3-%E0%B8%AB%E0%B9%89%E0%B8%AD%E0%B8%87%E0%B8%99%E0%B8%AD%E0%B8%99-%E0%B9%83%E0%B8%99-%E0%B8%A5%E0%B8%B8%E0%B8%A1%E0%B8%9E%E0%B8%B4%E0%B8%99%E0%B8%B5-%E0%B8%9B%E0%B8%97%E0%B8%B8%E0%B8%A1%E0%B8%A7%E0%B8%B1%E0%B8%99-%E0%B9%83%E0%B8%81%E0%B8%A5%E0%B9%89-mrt-%E0%B8%A5%E0%B8%B8%E0%B8%A1%E0%B8%9E%E0%B8%B4%E0%B8%99%E0%B8%B5_3a237a346b69-0c5e-6112-48dd-afee5089\n",
      "https://www.dotproperty.co.th/ads/%E0%B9%83%E0%B8%AB%E0%B9%89%E0%B9%80%E0%B8%8A%E0%B9%88%E0%B8%B2%E0%B8%84%E0%B8%AD%E0%B8%99%E0%B9%82%E0%B8%94-%E0%B8%A7%E0%B8%B1%E0%B8%99-%E0%B9%81%E0%B8%9A%E0%B8%87%E0%B8%84%E0%B9%8C%E0%B8%84%E0%B9%87%E0%B8%AD%E0%B8%81-%E0%B9%80%E0%B8%A3%E0%B8%AA%E0%B8%8B%E0%B8%B4%E0%B9%80%E0%B8%94%E0%B9%89%E0%B8%99%E0%B8%97%E0%B9%8C-2-%E0%B8%AB%E0%B9%89%E0%B8%AD%E0%B8%87%E0%B8%99%E0%B8%AD%E0%B8%99-%E0%B9%83%E0%B8%99-%E0%B8%A5%E0%B8%B8%E0%B8%A1%E0%B8%9E%E0%B8%B4%E0%B8%99%E0%B8%B5-%E0%B8%9B%E0%B8%97%E0%B8%B8%E0%B8%A1%E0%B8%A7%E0%B8%B1%E0%B8%99-%E0%B9%83%E0%B8%81%E0%B8%A5%E0%B9%89-mrt-%E0%B8%A5%E0%B8%B8%E0%B8%A1%E0%B8%9E%E0%B8%B4%E0%B8%99%E0%B8%B5_e59c56606b98-0c5e-6112-08a0-ddee5089\n",
      "https://www.dotproperty.co.th/ads/%E0%B9%83%E0%B8%AB%E0%B9%89%E0%B9%80%E0%B8%8A%E0%B9%88%E0%B8%B2%E0%B8%84%E0%B8%AD%E0%B8%99%E0%B9%82%E0%B8%94-2-%E0%B8%AB%E0%B9%89%E0%B8%AD%E0%B8%87%E0%B8%99%E0%B8%AD%E0%B8%99-%E0%B9%83%E0%B8%99-%E0%B8%84%E0%B8%A5%E0%B8%AD%E0%B8%87%E0%B8%95%E0%B8%B1%E0%B8%99-%E0%B8%84%E0%B8%A5%E0%B8%AD%E0%B8%87%E0%B9%80%E0%B8%95%E0%B8%A2-%E0%B9%83%E0%B8%81%E0%B8%A5%E0%B9%89-bts-%E0%B8%97%E0%B8%AD%E0%B8%87%E0%B8%AB%E0%B8%A5%E0%B9%88%E0%B8%AD_a6590b95aa6d-3841-4112-3182-c34b4089\n",
      "https://www.dotproperty.co.th/ads/%E0%B9%83%E0%B8%AB%E0%B9%89%E0%B9%80%E0%B8%8A%E0%B9%88%E0%B8%B2%E0%B8%84%E0%B8%AD%E0%B8%99%E0%B9%82%E0%B8%94-%E0%B9%80%E0%B8%94%E0%B8%AD%E0%B8%B0-%E0%B8%A3%E0%B8%B5%E0%B9%80%E0%B8%8B%E0%B8%B4%E0%B8%A3%E0%B9%8C%E0%B8%9F-61-%E0%B9%84%E0%B8%AE%E0%B8%94%E0%B9%8C%E0%B8%AD%E0%B8%B0%E0%B9%80%E0%B8%A7%E0%B8%A2%E0%B9%8C-3-%E0%B8%AB%E0%B9%89%E0%B8%AD%E0%B8%87%E0%B8%99%E0%B8%AD%E0%B8%99-%E0%B9%83%E0%B8%99-%E0%B8%84%E0%B8%A5%E0%B8%AD%E0%B8%87%E0%B8%95%E0%B8%B1%E0%B8%99%E0%B9%80%E0%B8%AB%E0%B8%99%E0%B8%B7%E0%B8%AD-%E0%B8%A7%E0%B8%B1%E0%B8%92%E0%B8%99%E0%B8%B2-%E0%B9%83%E0%B8%81%E0%B8%A5%E0%B9%89-bts-%E0%B9%80%E0%B8%AD%E0%B8%81%E0%B8%A1%E0%B8%B1%E0%B8%A2_62f526dd1175-46de-6dd2-4776-c6cf4089\n",
      "https://www.dotproperty.co.th/ads/%E0%B9%83%E0%B8%AB%E0%B9%89%E0%B9%80%E0%B8%8A%E0%B9%88%E0%B8%B2%E0%B8%84%E0%B8%AD%E0%B8%99%E0%B9%82%E0%B8%94-%E0%B8%97%E0%B9%80%E0%B8%A7%E0%B8%99%E0%B8%95%E0%B8%B5%E0%B9%89%E0%B9%80%E0%B8%AD%E0%B8%97-%E0%B8%8A%E0%B8%B4%E0%B8%94%E0%B8%A5%E0%B8%A1-2-%E0%B8%AB%E0%B9%89%E0%B8%AD%E0%B8%87%E0%B8%99%E0%B8%AD%E0%B8%99-%E0%B9%83%E0%B8%99-%E0%B8%A5%E0%B8%B8%E0%B8%A1%E0%B8%9E%E0%B8%B4%E0%B8%99%E0%B8%B5-%E0%B8%9B%E0%B8%97%E0%B8%B8%E0%B8%A1%E0%B8%A7%E0%B8%B1%E0%B8%99-%E0%B9%83%E0%B8%81%E0%B8%A5%E0%B9%89-bts-%E0%B8%8A%E0%B8%B4%E0%B8%94%E0%B8%A5%E0%B8%A1_605a0e53c182-e41f-2315-cd18-ce58b058\n",
      "https://www.dotproperty.co.th/ads/%E0%B9%83%E0%B8%AB%E0%B9%89%E0%B9%80%E0%B8%8A%E0%B9%88%E0%B8%B2%E0%B8%84%E0%B8%AD%E0%B8%99%E0%B9%82%E0%B8%94-%E0%B9%84%E0%B8%9A%E0%B8%A3%E0%B9%8C%E0%B8%97-%E0%B8%AA%E0%B8%B8%E0%B8%82%E0%B8%B8%E0%B8%A1%E0%B8%A7%E0%B8%B4%E0%B8%97-24-1-%E0%B8%AB%E0%B9%89%E0%B8%AD%E0%B8%87%E0%B8%99%E0%B8%AD%E0%B8%99-%E0%B9%83%E0%B8%99-%E0%B8%84%E0%B8%A5%E0%B8%AD%E0%B8%87%E0%B8%95%E0%B8%B1%E0%B8%99-%E0%B8%84%E0%B8%A5%E0%B8%AD%E0%B8%87%E0%B9%80%E0%B8%95%E0%B8%A2-%E0%B9%83%E0%B8%81%E0%B8%A5%E0%B9%89-bts-%E0%B8%9E%E0%B8%A3%E0%B9%89%E0%B8%AD%E0%B8%A1%E0%B8%9E%E0%B8%87%E0%B8%A9%E0%B9%8C_c783e0ffe5be-4170-d332-1561-4c954089\n",
      "https://www.dotproperty.co.th/ads/%E0%B9%83%E0%B8%AB%E0%B9%89%E0%B9%80%E0%B8%8A%E0%B9%88%E0%B8%B2%E0%B8%84%E0%B8%AD%E0%B8%99%E0%B9%82%E0%B8%94-%E0%B8%A1%E0%B8%B4%E0%B8%A7%E0%B8%99%E0%B8%B5%E0%B8%84-%E0%B8%AB%E0%B8%A5%E0%B8%B1%E0%B8%87%E0%B8%AA%E0%B8%A7%E0%B8%99-3-%E0%B8%AB%E0%B9%89%E0%B8%AD%E0%B8%87%E0%B8%99%E0%B8%AD%E0%B8%99-%E0%B9%83%E0%B8%99-%E0%B8%A5%E0%B8%B8%E0%B8%A1%E0%B8%9E%E0%B8%B4%E0%B8%99%E0%B8%B5-%E0%B8%9B%E0%B8%97%E0%B8%B8%E0%B8%A1%E0%B8%A7%E0%B8%B1%E0%B8%99-%E0%B9%83%E0%B8%81%E0%B8%A5%E0%B9%89-bts-%E0%B8%8A%E0%B8%B4%E0%B8%94%E0%B8%A5%E0%B8%A1_77905c1ea2fd-fe4f-32b5-f266-0cc3e70a\n",
      "https://www.dotproperty.co.th/ads/%E0%B9%83%E0%B8%AB%E0%B9%89%E0%B9%80%E0%B8%8A%E0%B9%88%E0%B8%B2%E0%B8%84%E0%B8%AD%E0%B8%99%E0%B9%82%E0%B8%94-%E0%B8%A1%E0%B8%B4%E0%B8%A7%E0%B8%99%E0%B8%B5%E0%B8%84-%E0%B8%AB%E0%B8%A5%E0%B8%B1%E0%B8%87%E0%B8%AA%E0%B8%A7%E0%B8%99-3-%E0%B8%AB%E0%B9%89%E0%B8%AD%E0%B8%87%E0%B8%99%E0%B8%AD%E0%B8%99-%E0%B9%83%E0%B8%99-%E0%B8%A5%E0%B8%B8%E0%B8%A1%E0%B8%9E%E0%B8%B4%E0%B8%99%E0%B8%B5-%E0%B8%9B%E0%B8%97%E0%B8%B8%E0%B8%A1%E0%B8%A7%E0%B8%B1%E0%B8%99-%E0%B9%83%E0%B8%81%E0%B8%A5%E0%B9%89-bts-%E0%B8%8A%E0%B8%B4%E0%B8%94%E0%B8%A5%E0%B8%A1_95bef2e57e6e-a150-9c45-a399-62a338fb\n",
      "https://www.dotproperty.co.th/ads/%E0%B9%83%E0%B8%AB%E0%B9%89%E0%B9%80%E0%B8%8A%E0%B9%88%E0%B8%B2%E0%B8%84%E0%B8%AD%E0%B8%99%E0%B9%82%E0%B8%94-%E0%B8%A1%E0%B8%B4%E0%B8%A7%E0%B8%99%E0%B8%B5%E0%B8%84-%E0%B8%AB%E0%B8%A5%E0%B8%B1%E0%B8%87%E0%B8%AA%E0%B8%A7%E0%B8%99-3-%E0%B8%AB%E0%B9%89%E0%B8%AD%E0%B8%87%E0%B8%99%E0%B8%AD%E0%B8%99-%E0%B9%83%E0%B8%99-%E0%B8%A5%E0%B8%B8%E0%B8%A1%E0%B8%9E%E0%B8%B4%E0%B8%99%E0%B8%B5-%E0%B8%9B%E0%B8%97%E0%B8%B8%E0%B8%A1%E0%B8%A7%E0%B8%B1%E0%B8%99-%E0%B9%83%E0%B8%81%E0%B8%A5%E0%B9%89-bts-%E0%B8%8A%E0%B8%B4%E0%B8%94%E0%B8%A5%E0%B8%A1_ae4516dfbdda-48b1-eb05-eaeb-dce68a2b\n",
      "https://www.dotproperty.co.th/ads/%E0%B9%83%E0%B8%AB%E0%B9%89%E0%B9%80%E0%B8%8A%E0%B9%88%E0%B8%B2%E0%B8%84%E0%B8%AD%E0%B8%99%E0%B9%82%E0%B8%94-%E0%B8%97%E0%B9%80%E0%B8%A7%E0%B8%99%E0%B8%95%E0%B8%B5%E0%B9%89%E0%B9%80%E0%B8%AD%E0%B8%97-%E0%B8%8A%E0%B8%B4%E0%B8%94%E0%B8%A5%E0%B8%A1-2-%E0%B8%AB%E0%B9%89%E0%B8%AD%E0%B8%87%E0%B8%99%E0%B8%AD%E0%B8%99-%E0%B9%83%E0%B8%99-%E0%B8%A5%E0%B8%B8%E0%B8%A1%E0%B8%9E%E0%B8%B4%E0%B8%99%E0%B8%B5-%E0%B8%9B%E0%B8%97%E0%B8%B8%E0%B8%A1%E0%B8%A7%E0%B8%B1%E0%B8%99-%E0%B9%83%E0%B8%81%E0%B8%A5%E0%B9%89-bts-%E0%B8%8A%E0%B8%B4%E0%B8%94%E0%B8%A5%E0%B8%A1_37e1d9883baf-19be-0755-139e-5f14867c\n"
     ]
    }
   ],
   "source": [
    "# ตรวจสอบ\n",
    "for url in urls:\n",
    "    print(url)"
   ]
  },
  {
   "cell_type": "code",
   "execution_count": null,
   "metadata": {},
   "outputs": [],
   "source": [
    "# วนลูปทุกลิงก์\n",
    "for i, url in enumerate(urls):\n",
    "    # เปิดลิงก์ในแท็บใหม่\n",
    "    driver.execute_script(f\"window.open('{url}');\")\n",
    "    driver.switch_to.window(driver.window_handles[-1])\n",
    "    time.sleep(2)\n",
    "\n",
    "    try:\n",
    "        # ดึงข้อมูลหลัก\n",
    "        title = driver.find_element(By.XPATH, '//h1').text\n",
    "        price = driver.find_element(By.XPATH, '//div[contains(text(), \"ราคาเช่า\")]/strong').text\n",
    "        property_code = driver.find_element(By.XPATH, '//*[contains(text(),\"รหัสอสังหาริมทรัพย์\")]/following-sibling::span').text\n",
    "        description = driver.find_element(By.XPATH, '//div[contains(@class, \"description\")]').text\n",
    "\n",
    "        print(f\"[{i+1}] {title} | {price} | {property_code}\")\n",
    "\n",
    "        # ดึงภาพทั้งหมด\n",
    "        image_elements = driver.find_elements(By.XPATH, '//img[contains(@src, \"https://images-pro.dotproperty.cloud/\")]')\n",
    "        for j, img in enumerate(image_elements):\n",
    "            img_url = img.get_attribute(\"src\")\n",
    "            img_data = requests.get(img_url).content\n",
    "            filename = f\"images/{i+1}_{j+1}.jpg\"\n",
    "            with open(filename, 'wb') as f:\n",
    "                f.write(img_data)\n",
    "\n",
    "    except Exception as e:\n",
    "        print(f\"❌ Error at item {i+1}: {e}\")\n",
    "\n",
    "    # ปิดแท็บนี้\n",
    "    driver.close()\n",
    "    # กลับไปแท็บหลัก\n",
    "    driver.switch_to.window(driver.window_handles[0])\n",
    "    time.sleep(1)\n",
    "\n",
    "driver.quit()"
   ]
  }
 ],
 "metadata": {
  "kernelspec": {
   "display_name": "myenv",
   "language": "python",
   "name": "python3"
  },
  "language_info": {
   "codemirror_mode": {
    "name": "ipython",
    "version": 3
   },
   "file_extension": ".py",
   "mimetype": "text/x-python",
   "name": "python",
   "nbconvert_exporter": "python",
   "pygments_lexer": "ipython3",
   "version": "3.11.4"
  }
 },
 "nbformat": 4,
 "nbformat_minor": 2
}
